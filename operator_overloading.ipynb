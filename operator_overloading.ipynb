{
 "cells": [
  {
   "cell_type": "markdown",
   "id": "a0029fb8",
   "metadata": {},
   "source": [
    "#### Here, we will be learning operater overloading with complex_nums"
   ]
  },
  {
   "cell_type": "code",
   "execution_count": 50,
   "id": "83425dd7",
   "metadata": {},
   "outputs": [],
   "source": [
    "class complex_nums:\n",
    "    def __init__(self, real, imag = None):\n",
    "        if imag is None and isinstance(real, str):\n",
    "            real , imag = map(float, real.replace('i', '').split('+'))\n",
    "        self.real = real\n",
    "        self.imag = imag\n",
    "    def __eq__(self, other):\n",
    "        return self.real == other.real and self.imag == other.imag\n",
    "    def __add__(self, other):\n",
    "        print(self.real + other.real, self.imag + other.imag);\n",
    "        return complex_nums(self.real + other.real, self.imag + other.imag)\n",
    "\n",
    "    def __sub__(self, other):\n",
    "        return complex_nums(self.real - other.real, self.imag - other.imag)\n",
    "\n",
    "    def __mul__(self, other):\n",
    "        return complex_nums(self.real * other.real - self.imag * other.imag,\n",
    "                            self.real * other.imag + self.imag * other.real)\n",
    "\n",
    "    def __truediv__(self, other):\n",
    "        denom = other.real ** 2 + other.imag ** 2\n",
    "        return complex_nums((self.real * other.real + self.imag * other.imag) / denom,\n",
    "                            (self.imag * other.real - self.real * other.imag) / denom)\n",
    "\n",
    "    def __str__(self):\n",
    "        return f\"{self.real} + {self.imag}i\""
   ]
  },
  {
   "cell_type": "code",
   "execution_count": 23,
   "id": "9af3ce5e",
   "metadata": {},
   "outputs": [],
   "source": [
    "c1 = complex_nums(3, 2)\n",
    "c2 = complex_nums(1, 7)"
   ]
  },
  {
   "cell_type": "code",
   "execution_count": 24,
   "id": "cc3c0053",
   "metadata": {},
   "outputs": [
    {
     "name": "stdout",
     "output_type": "stream",
     "text": [
      "4 + 9i\n"
     ]
    }
   ],
   "source": [
    "print(c1.__add__(c2))"
   ]
  },
  {
   "cell_type": "code",
   "execution_count": 25,
   "id": "a6fab590",
   "metadata": {},
   "outputs": [
    {
     "name": "stdout",
     "output_type": "stream",
     "text": [
      "3 + 2i\n"
     ]
    }
   ],
   "source": [
    "print(c1)"
   ]
  },
  {
   "cell_type": "code",
   "execution_count": 26,
   "id": "be75430f",
   "metadata": {},
   "outputs": [
    {
     "name": "stdout",
     "output_type": "stream",
     "text": [
      "4 + 9i\n"
     ]
    }
   ],
   "source": [
    "print(c1 + c2)"
   ]
  },
  {
   "cell_type": "code",
   "execution_count": 30,
   "id": "5b275d83",
   "metadata": {},
   "outputs": [],
   "source": [
    "c3 = complex_nums(\"3 + 2i\")"
   ]
  },
  {
   "cell_type": "code",
   "execution_count": 36,
   "id": "8191818e",
   "metadata": {},
   "outputs": [],
   "source": [
    "c4 = complex_nums(\"1 + 7i\")"
   ]
  },
  {
   "cell_type": "code",
   "execution_count": 37,
   "id": "c45ce22c",
   "metadata": {},
   "outputs": [
    {
     "name": "stdout",
     "output_type": "stream",
     "text": [
      "4.0 + 9.0i\n"
     ]
    }
   ],
   "source": [
    "print(c3 + c2)"
   ]
  },
  {
   "cell_type": "code",
   "execution_count": 39,
   "id": "273327e5",
   "metadata": {},
   "outputs": [
    {
     "name": "stdout",
     "output_type": "stream",
     "text": [
      "4.0 + 9.0i\n"
     ]
    }
   ],
   "source": [
    "print(c3 + c4)"
   ]
  },
  {
   "cell_type": "code",
   "execution_count": 40,
   "id": "f383788f",
   "metadata": {},
   "outputs": [
    {
     "name": "stdout",
     "output_type": "stream",
     "text": [
      "2.0 + -5.0i\n"
     ]
    }
   ],
   "source": [
    "print(c3 - c4)"
   ]
  },
  {
   "cell_type": "code",
   "execution_count": 41,
   "id": "32711b24",
   "metadata": {},
   "outputs": [
    {
     "name": "stdout",
     "output_type": "stream",
     "text": [
      "-11.0 + 23.0i\n"
     ]
    }
   ],
   "source": [
    "print(c3 * c4)"
   ]
  },
  {
   "cell_type": "code",
   "execution_count": 42,
   "id": "c677795c",
   "metadata": {},
   "outputs": [
    {
     "name": "stdout",
     "output_type": "stream",
     "text": [
      "0.34 + -0.38i\n"
     ]
    }
   ],
   "source": [
    "print(c3 / c4)"
   ]
  },
  {
   "cell_type": "code",
   "execution_count": 44,
   "id": "b541be97",
   "metadata": {},
   "outputs": [
    {
     "name": "stdout",
     "output_type": "stream",
     "text": [
      "False\n"
     ]
    }
   ],
   "source": [
    "print(c3 == c4)"
   ]
  },
  {
   "cell_type": "code",
   "execution_count": 49,
   "id": "421c4cd3",
   "metadata": {},
   "outputs": [],
   "source": [
    "c5 = complex_nums(0 ,\"-5i\")"
   ]
  },
  {
   "cell_type": "code",
   "execution_count": null,
   "id": "fc36c640",
   "metadata": {},
   "outputs": [],
   "source": []
  }
 ],
 "metadata": {
  "kernelspec": {
   "display_name": "base",
   "language": "python",
   "name": "python3"
  },
  "language_info": {
   "codemirror_mode": {
    "name": "ipython",
    "version": 3
   },
   "file_extension": ".py",
   "mimetype": "text/x-python",
   "name": "python",
   "nbconvert_exporter": "python",
   "pygments_lexer": "ipython3",
   "version": "3.12.4"
  }
 },
 "nbformat": 4,
 "nbformat_minor": 5
}
