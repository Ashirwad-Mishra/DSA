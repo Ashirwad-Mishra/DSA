{
 "cells": [
  {
   "cell_type": "code",
   "execution_count": 4,
   "id": "a525675d",
   "metadata": {},
   "outputs": [],
   "source": [
    "def square(n):\n",
    "    for i in range(3, n + 1):\n",
    "        if i % 2 == 0:\n",
    "            return i * i\n"
   ]
  },
  {
   "cell_type": "code",
   "execution_count": 5,
   "id": "38044714",
   "metadata": {},
   "outputs": [
    {
     "data": {
      "text/plain": [
       "16"
      ]
     },
     "execution_count": 5,
     "metadata": {},
     "output_type": "execute_result"
    }
   ],
   "source": [
    "square(10)"
   ]
  },
  {
   "cell_type": "code",
   "execution_count": 6,
   "id": "867bc8dc",
   "metadata": {},
   "outputs": [
    {
     "data": {
      "text/plain": [
       "16"
      ]
     },
     "execution_count": 6,
     "metadata": {},
     "output_type": "execute_result"
    }
   ],
   "source": [
    "square(10)  "
   ]
  },
  {
   "cell_type": "code",
   "execution_count": 7,
   "id": "8578edb9",
   "metadata": {},
   "outputs": [],
   "source": [
    "def square(n):\n",
    "    for i in range(3, n + 1):\n",
    "        if i % 2 == 0:\n",
    "            yield i * i\n"
   ]
  },
  {
   "cell_type": "code",
   "execution_count": 8,
   "id": "3e083459",
   "metadata": {},
   "outputs": [
    {
     "data": {
      "text/plain": [
       "<generator object square at 0x000001E5B9494580>"
      ]
     },
     "execution_count": 8,
     "metadata": {},
     "output_type": "execute_result"
    }
   ],
   "source": [
    "square(10) "
   ]
  },
  {
   "cell_type": "code",
   "execution_count": 9,
   "id": "181da71c",
   "metadata": {},
   "outputs": [
    {
     "name": "stdout",
     "output_type": "stream",
     "text": [
      "16\n",
      "36\n",
      "64\n",
      "100\n"
     ]
    }
   ],
   "source": [
    "for i in square(10):\n",
    "    print(i)"
   ]
  },
  {
   "cell_type": "code",
   "execution_count": 10,
   "id": "ad69a06c",
   "metadata": {},
   "outputs": [],
   "source": [
    "arr = [1, 2, 3, 4, 5]\n",
    "arr_iter = iter(arr)"
   ]
  },
  {
   "cell_type": "code",
   "execution_count": 11,
   "id": "065e6b4b",
   "metadata": {},
   "outputs": [
    {
     "name": "stdout",
     "output_type": "stream",
     "text": [
      "1\n",
      "2\n",
      "3\n",
      "4\n",
      "5\n"
     ]
    }
   ],
   "source": [
    "while arr_iter:\n",
    "    try:\n",
    "        print(next(arr_iter))\n",
    "    except StopIteration:\n",
    "        break"
   ]
  },
  {
   "cell_type": "code",
   "execution_count": 13,
   "id": "8de577d1",
   "metadata": {},
   "outputs": [
    {
     "name": "stdout",
     "output_type": "stream",
     "text": [
      "100\n"
     ]
    }
   ],
   "source": [
    "f = lambda x: x * x\n",
    "print(f(10))"
   ]
  },
  {
   "cell_type": "code",
   "execution_count": 25,
   "id": "2cf39a78",
   "metadata": {},
   "outputs": [],
   "source": [
    "def read_file(file_name):\n",
    "    with open(file_name, 'r') as file:\n",
    "        for line in file:\n",
    "            yield line.strip()"
   ]
  },
  {
   "cell_type": "code",
   "execution_count": 26,
   "id": "baa21d17",
   "metadata": {},
   "outputs": [
    {
     "name": "stdout",
     "output_type": "stream",
     "text": [
      "The quick brown fox jumps over the lazy dog.\n",
      "Python is a powerful programming language.\n",
      "Generators allow you to iterate over data lazily.\n",
      "File handling is essential for data processing.\n",
      "Yield is used to return data one piece at a time.\n",
      "This is a sample file for practicing Python.\n",
      "Each line here represents a separate record.\n"
     ]
    }
   ],
   "source": [
    "f1 = read_file('just_a_file.txt')\n",
    "for line in f1:\n",
    "    print(line)"
   ]
  },
  {
   "cell_type": "code",
   "execution_count": null,
   "id": "340f9c2b",
   "metadata": {},
   "outputs": [],
   "source": []
  }
 ],
 "metadata": {
  "kernelspec": {
   "display_name": "base",
   "language": "python",
   "name": "python3"
  },
  "language_info": {
   "codemirror_mode": {
    "name": "ipython",
    "version": 3
   },
   "file_extension": ".py",
   "mimetype": "text/x-python",
   "name": "python",
   "nbconvert_exporter": "python",
   "pygments_lexer": "ipython3",
   "version": "3.12.4"
  }
 },
 "nbformat": 4,
 "nbformat_minor": 5
}
