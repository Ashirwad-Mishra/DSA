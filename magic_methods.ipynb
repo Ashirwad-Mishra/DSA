{
 "cells": [
  {
   "cell_type": "code",
   "execution_count": 1,
   "id": "4d99341a",
   "metadata": {},
   "outputs": [],
   "source": [
    "class dog:\n",
    "    pass"
   ]
  },
  {
   "cell_type": "code",
   "execution_count": 2,
   "id": "b5696148",
   "metadata": {},
   "outputs": [
    {
     "data": {
      "text/plain": [
       "['__class__',\n",
       " '__delattr__',\n",
       " '__dict__',\n",
       " '__dir__',\n",
       " '__doc__',\n",
       " '__eq__',\n",
       " '__format__',\n",
       " '__ge__',\n",
       " '__getattribute__',\n",
       " '__getstate__',\n",
       " '__gt__',\n",
       " '__hash__',\n",
       " '__init__',\n",
       " '__init_subclass__',\n",
       " '__le__',\n",
       " '__lt__',\n",
       " '__module__',\n",
       " '__ne__',\n",
       " '__new__',\n",
       " '__reduce__',\n",
       " '__reduce_ex__',\n",
       " '__repr__',\n",
       " '__setattr__',\n",
       " '__sizeof__',\n",
       " '__str__',\n",
       " '__subclasshook__',\n",
       " '__weakref__']"
      ]
     },
     "execution_count": 2,
     "metadata": {},
     "output_type": "execute_result"
    }
   ],
   "source": [
    "dir(dog)"
   ]
  },
  {
   "cell_type": "code",
   "execution_count": 3,
   "id": "eadf5464",
   "metadata": {},
   "outputs": [],
   "source": [
    "class cat:\n",
    "    def __init__(self, name , age = 0):\n",
    "        self.name = name\n",
    "        self.age = age\n",
    "        print(\"Cat created:\", self.name, \"Age:\", self.age)\n",
    "    def speak(self):\n",
    "        return \"Meow\""
   ]
  },
  {
   "cell_type": "code",
   "execution_count": 5,
   "id": "0957f210",
   "metadata": {},
   "outputs": [
    {
     "name": "stdout",
     "output_type": "stream",
     "text": [
      "Cat created: Whiskers Age: 3\n",
      "Cat created: Mittens Age: 5\n"
     ]
    }
   ],
   "source": [
    "c1 = cat(\"Whiskers\", 3)\n",
    "c2 = cat(\"Mittens\", 5)"
   ]
  },
  {
   "cell_type": "code",
   "execution_count": 6,
   "id": "abe5ea5e",
   "metadata": {},
   "outputs": [
    {
     "data": {
      "text/plain": [
       "<bound method cat.__init__ of <__main__.cat object at 0x00000235C5ABC800>>"
      ]
     },
     "execution_count": 6,
     "metadata": {},
     "output_type": "execute_result"
    }
   ],
   "source": [
    "c1.__init__"
   ]
  },
  {
   "cell_type": "code",
   "execution_count": 7,
   "id": "e41604ed",
   "metadata": {},
   "outputs": [
    {
     "data": {
      "text/plain": [
       "'Meow'"
      ]
     },
     "execution_count": 7,
     "metadata": {},
     "output_type": "execute_result"
    }
   ],
   "source": [
    "c2.speak()"
   ]
  },
  {
   "cell_type": "code",
   "execution_count": 18,
   "id": "705b5bda",
   "metadata": {},
   "outputs": [],
   "source": [
    "class cat:\n",
    "    def __init__(self, name , age = 0):\n",
    "        self.name = name\n",
    "        self.age = age\n",
    "        print(\"Cat created:\", self.name, \"Age:\", self.age)\n",
    "    def speak(self):\n",
    "        return \"Meow\"\n",
    "    def __str__(self):\n",
    "        return f\"Cat(name={self.name}, age={self.age})\"\n",
    "    def __repr__(self):\n",
    "        return f\"Cat(name={self.name}, age={self.age}) is located at {hex(id(self))}\"\n",
    "    def __doc__(self):\n",
    "        return \"This is a cat class with methods to create a cat, make it speak, and display its information.\""
   ]
  },
  {
   "cell_type": "code",
   "execution_count": 19,
   "id": "a975edfa",
   "metadata": {},
   "outputs": [
    {
     "name": "stdout",
     "output_type": "stream",
     "text": [
      "Cat created: Whiskers Age: 3\n",
      "Cat created: Mittens Age: 5\n"
     ]
    }
   ],
   "source": [
    "c1 = cat(\"Whiskers\", 3)\n",
    "c2 = cat(\"Mittens\", 5)"
   ]
  },
  {
   "cell_type": "code",
   "execution_count": 20,
   "id": "308b71db",
   "metadata": {},
   "outputs": [
    {
     "name": "stdout",
     "output_type": "stream",
     "text": [
      "Cat(name=Whiskers, age=3)\n",
      "Cat(name=Mittens, age=5)\n"
     ]
    }
   ],
   "source": [
    "print(c1)\n",
    "print(c2)"
   ]
  },
  {
   "cell_type": "code",
   "execution_count": 21,
   "id": "71691b4e",
   "metadata": {},
   "outputs": [
    {
     "data": {
      "text/plain": [
       "'Cat(name=Whiskers, age=3) is located at 0x235c5ae96a0'"
      ]
     },
     "execution_count": 21,
     "metadata": {},
     "output_type": "execute_result"
    }
   ],
   "source": [
    "c1.__repr__()"
   ]
  },
  {
   "cell_type": "code",
   "execution_count": 22,
   "id": "b401af27",
   "metadata": {},
   "outputs": [
    {
     "data": {
      "text/plain": [
       "'Cat(name=Mittens, age=5) is located at 0x235c5abfbc0'"
      ]
     },
     "execution_count": 22,
     "metadata": {},
     "output_type": "execute_result"
    }
   ],
   "source": [
    "c2.__repr__()"
   ]
  },
  {
   "cell_type": "code",
   "execution_count": 23,
   "id": "264a4a07",
   "metadata": {},
   "outputs": [
    {
     "data": {
      "text/plain": [
       "'This is a cat class with methods to create a cat, make it speak, and display its information.'"
      ]
     },
     "execution_count": 23,
     "metadata": {},
     "output_type": "execute_result"
    }
   ],
   "source": [
    "c1.__doc__()"
   ]
  },
  {
   "cell_type": "code",
   "execution_count": 24,
   "id": "e50fb8a8",
   "metadata": {},
   "outputs": [
    {
     "data": {
      "text/plain": [
       "'This is a cat class with methods to create a cat, make it speak, and display its information.'"
      ]
     },
     "execution_count": 24,
     "metadata": {},
     "output_type": "execute_result"
    }
   ],
   "source": [
    "c2.__doc__()"
   ]
  },
  {
   "cell_type": "code",
   "execution_count": null,
   "id": "ec6ca62a",
   "metadata": {},
   "outputs": [],
   "source": []
  }
 ],
 "metadata": {
  "kernelspec": {
   "display_name": "base",
   "language": "python",
   "name": "python3"
  },
  "language_info": {
   "codemirror_mode": {
    "name": "ipython",
    "version": 3
   },
   "file_extension": ".py",
   "mimetype": "text/x-python",
   "name": "python",
   "nbconvert_exporter": "python",
   "pygments_lexer": "ipython3",
   "version": "3.12.4"
  }
 },
 "nbformat": 4,
 "nbformat_minor": 5
}
