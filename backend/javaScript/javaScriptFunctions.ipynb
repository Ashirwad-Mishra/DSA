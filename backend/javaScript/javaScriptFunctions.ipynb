{
 "cells": [
  {
   "cell_type": "markdown",
   "id": "b762492e-d582-4b4f-a9e7-460cbdc26213",
   "metadata": {},
   "source": [
    "#### WAP to find intersection of two arrays usnig set"
   ]
  },
  {
   "cell_type": "code",
   "execution_count": 4,
   "id": "b4e57160-4631-4402-bfee-de5358870a22",
   "metadata": {},
   "outputs": [],
   "source": [
    "let intersection = (Arr1 , Arr2) =>\n",
    "    {\n",
    "        let S1 = new Set(Arr1);\n",
    "        let S2 = new Set(Arr2);\n",
    "\n",
    "        let ans = [];\n",
    "\n",
    "        for (let i of S1)\n",
    "        {\n",
    "            if (S2.has(i))\n",
    "                {\n",
    "                    ans.push(i);\n",
    "                }\n",
    "        }\n",
    "        return ans;\n",
    "    }"
   ]
  },
  {
   "cell_type": "code",
   "execution_count": 6,
   "id": "1a756405-2872-4f20-ae4e-17e3ee62dc6f",
   "metadata": {},
   "outputs": [],
   "source": [
    "let A1 = [1 , 1 , 1 , 2 , 3 , 2, 3, 4 , 5, 35 , 76, 23]"
   ]
  },
  {
   "cell_type": "code",
   "execution_count": 8,
   "id": "e66eb65d-5ea9-443e-b3c3-00ae9a1ce4eb",
   "metadata": {},
   "outputs": [],
   "source": [
    "let A2 = [7 , 2 , 3, 1 ,1 ,3 ,4 ,6, 5]"
   ]
  },
  {
   "cell_type": "code",
   "execution_count": 10,
   "id": "846a0687-6fba-41cc-82dd-604cde05ef82",
   "metadata": {},
   "outputs": [
    {
     "name": "stdout",
     "output_type": "stream",
     "text": [
      "[ 1, 2, 3, 4, 5 ]\n"
     ]
    }
   ],
   "source": [
    "intersection(A1 , A2)"
   ]
  },
  {
   "cell_type": "markdown",
   "id": "0dd4ba5c-d142-4a7f-be87-9b15b71c7235",
   "metadata": {},
   "source": [
    "#### WAP to find sum of all number in a string using set"
   ]
  },
  {
   "cell_type": "markdown",
   "id": "177a66e5-0158-41f9-9f31-e37bcc5981a6",
   "metadata": {},
   "source": [
    "let Sum = (S) => \n",
    "    {\n",
    "        let s1 = new Set();\n",
    "        for (let c of S)\n",
    "            {\n",
    "                s1.add(parseInt(c));\n",
    "            }\n",
    "        let ans = 0;\n",
    "        for (let i of s1)\n",
    "            {\n",
    "                ans += i;\n",
    "            }\n",
    "        return ans;\n",
    "    }"
   ]
  },
  {
   "cell_type": "code",
   "execution_count": 19,
   "id": "0c77412d-38f0-4d89-8895-4ed365d74c24",
   "metadata": {},
   "outputs": [],
   "source": [
    "let S1 = \"887638738763\";"
   ]
  },
  {
   "cell_type": "code",
   "execution_count": 21,
   "id": "6828eac0-c747-469b-93f1-60c48fb0b7a4",
   "metadata": {},
   "outputs": [
    {
     "name": "stdout",
     "output_type": "stream",
     "text": [
      "24\n"
     ]
    }
   ],
   "source": [
    "Sum(S1);"
   ]
  },
  {
   "cell_type": "markdown",
   "id": "aaaedb73-fcdd-4d6f-987f-eeff9e274647",
   "metadata": {},
   "source": [
    "#### WAP to find length of the longest substring without repeating characters. Explain the concept of set."
   ]
  },
  {
   "cell_type": "code",
   "execution_count": 24,
   "id": "28d37f99-2f09-445d-aeb1-a7cc2c2a8340",
   "metadata": {},
   "outputs": [],
   "source": [
    "let longestSubStrLen = (s) =>\n",
    "    {\n",
    "        let ans = 0;\n",
    "        let le = 0;\n",
    "        let S = new Set();\n",
    "\n",
    "        for (let i = 0 ; i < s.length ; i++)\n",
    "            {\n",
    "                while( S.has(s[i]))\n",
    "                    {\n",
    "                        S.delete(s[le]);\n",
    "                        le++;\n",
    "                    }\n",
    "                S.add(s[i]);\n",
    "                ans = Math.max( ans , i - le + 1);\n",
    "            }\n",
    "        return ans;\n",
    "    }"
   ]
  },
  {
   "cell_type": "code",
   "execution_count": 30,
   "id": "3317d2c9-94b4-43c9-b3e6-2b49ac191070",
   "metadata": {},
   "outputs": [],
   "source": [
    "let S2 = \"abes engineering college\";"
   ]
  },
  {
   "cell_type": "code",
   "execution_count": 32,
   "id": "b56d7685-86ea-4cc7-a31a-9676f0d987a7",
   "metadata": {},
   "outputs": [
    {
     "name": "stdout",
     "output_type": "stream",
     "text": [
      "9\n"
     ]
    }
   ],
   "source": [
    "longestSubStrLen(S2)"
   ]
  },
  {
   "cell_type": "markdown",
   "id": "928a61b0-d349-4db6-b6ce-295060206dea",
   "metadata": {},
   "source": [
    "#### Create FIZZBUZZ program"
   ]
  },
  {
   "cell_type": "code",
   "execution_count": 45,
   "id": "0d8347e9-3f23-4dea-b3eb-53bd754d3097",
   "metadata": {},
   "outputs": [],
   "source": [
    "let fizzBuzz = (n) =>\n",
    "    {\n",
    "        for (let i = 1 ; i <= n ; i++)\n",
    "            {\n",
    "                if ( i % 15 == 0) \n",
    "                {\n",
    "                    console.log(i + \" for \" + \"FIZZBUZZ\");\n",
    "                }\n",
    "                else if ( i % 5 == 0) \n",
    "                {\n",
    "                    console.log(i + \" for \" + \"BUZZ\");\n",
    "                }\n",
    "                else if ( i % 3 == 0) \n",
    "                {\n",
    "                    console.log(i + \" for \" + \"FIZZ\");\n",
    "                }\n",
    "            }\n",
    "    }"
   ]
  },
  {
   "cell_type": "code",
   "execution_count": 47,
   "id": "6ba125bf-ee87-41b3-8176-daf1413aceff",
   "metadata": {},
   "outputs": [
    {
     "name": "stdout",
     "output_type": "stream",
     "text": [
      "3 for FIZZ\n",
      "5 for BUZZ\n",
      "6 for FIZZ\n",
      "9 for FIZZ\n",
      "10 for BUZZ\n",
      "12 for FIZZ\n",
      "15 for FIZZBUZZ\n",
      "18 for FIZZ\n",
      "20 for BUZZ\n",
      "21 for FIZZ\n",
      "24 for FIZZ\n",
      "25 for BUZZ\n",
      "27 for FIZZ\n",
      "30 for FIZZBUZZ\n",
      "33 for FIZZ\n",
      "35 for BUZZ\n",
      "36 for FIZZ\n",
      "39 for FIZZ\n",
      "40 for BUZZ\n",
      "42 for FIZZ\n",
      "45 for FIZZBUZZ\n",
      "48 for FIZZ\n",
      "50 for BUZZ\n",
      "51 for FIZZ\n",
      "54 for FIZZ\n",
      "55 for BUZZ\n",
      "57 for FIZZ\n",
      "60 for FIZZBUZZ\n",
      "63 for FIZZ\n",
      "65 for BUZZ\n",
      "66 for FIZZ\n",
      "69 for FIZZ\n",
      "70 for BUZZ\n",
      "72 for FIZZ\n",
      "75 for FIZZBUZZ\n",
      "78 for FIZZ\n",
      "80 for BUZZ\n",
      "81 for FIZZ\n",
      "84 for FIZZ\n",
      "85 for BUZZ\n",
      "87 for FIZZ\n",
      "90 for FIZZBUZZ\n",
      "93 for FIZZ\n",
      "95 for BUZZ\n",
      "96 for FIZZ\n",
      "99 for FIZZ\n",
      "100 for BUZZ\n"
     ]
    }
   ],
   "source": [
    "fizzBuzz(100)"
   ]
  },
  {
   "cell_type": "markdown",
   "id": "a6e073c1-a3d6-4a99-ab45-6fc921db9d8a",
   "metadata": {},
   "source": [
    "#### WAP to count character frequency in a string"
   ]
  },
  {
   "cell_type": "code",
   "execution_count": 52,
   "id": "5dfa30c4-8c8e-40d9-987b-cd0f7a81c106",
   "metadata": {},
   "outputs": [],
   "source": [
    "let charCount = (S) =>\n",
    "    {\n",
    "        let ans = {};\n",
    "        for (let i = 0 ; i < S.length ; i++)\n",
    "        {\n",
    "            ans[S[i]] = (ans[S[i]] || 0) + 1;\n",
    "        }\n",
    "        return ans;\n",
    "    }"
   ]
  },
  {
   "cell_type": "code",
   "execution_count": 54,
   "id": "f515cc60-551e-40e3-a670-d6fb43bb3a19",
   "metadata": {},
   "outputs": [],
   "source": [
    "let S3 = \"abes engineering college\""
   ]
  },
  {
   "cell_type": "code",
   "execution_count": 56,
   "id": "30ac700d-abf1-4a20-9f8c-2ab4908024e8",
   "metadata": {},
   "outputs": [
    {
     "name": "stdout",
     "output_type": "stream",
     "text": [
      "{\n",
      "  a: 1,\n",
      "  b: 1,\n",
      "  e: 6,\n",
      "  s: 1,\n",
      "  ' ': 2,\n",
      "  n: 3,\n",
      "  g: 3,\n",
      "  i: 2,\n",
      "  r: 1,\n",
      "  c: 1,\n",
      "  o: 1,\n",
      "  l: 2\n",
      "}\n"
     ]
    }
   ],
   "source": [
    "charCount(S3);"
   ]
  },
  {
   "cell_type": "markdown",
   "id": "0f00e107-5f5c-4378-b25d-3bc5056fd3cf",
   "metadata": {},
   "source": [
    "#### WAP to convert ROMAN Numeral to integer"
   ]
  },
  {
   "cell_type": "code",
   "execution_count": 67,
   "id": "562967b1-51ec-48cc-8418-baa2f5170220",
   "metadata": {},
   "outputs": [],
   "source": [
    "let RTI = (S) => {\n",
    "    let myMap = \n",
    "    {\n",
    "        \"I\": 1,\n",
    "        \"V\": 5,\n",
    "        \"X\": 10,\n",
    "        \"L\": 50,\n",
    "        \"C\": 100,\n",
    "        \"D\": 500,\n",
    "        \"M\": 1000\n",
    "    };\n",
    "\n",
    "    let ans = 0;\n",
    "\n",
    "    for (let i = 0; i < S.length; i++) \n",
    "    {\n",
    "        let curr = myMap[S[i]];\n",
    "        let next = myMap[S[i + 1]];\n",
    "\n",
    "        if (next && curr < next) \n",
    "        {\n",
    "            ans -= curr; \n",
    "        } \n",
    "        else \n",
    "        {\n",
    "            ans += curr;\n",
    "        }\n",
    "    }\n",
    "\n",
    "    return ans;\n",
    "};"
   ]
  },
  {
   "cell_type": "code",
   "execution_count": null,
   "id": "6a0eb4bc-164d-48a8-9247-dd6d1c231306",
   "metadata": {},
   "outputs": [],
   "source": [
    "let S4 = \"XXIV\";"
   ]
  },
  {
   "cell_type": "code",
   "execution_count": 69,
   "id": "f6b31587-7e5a-4971-8fe7-7e7d9dabe703",
   "metadata": {},
   "outputs": [
    {
     "name": "stdout",
     "output_type": "stream",
     "text": [
      "24\n"
     ]
    }
   ],
   "source": [
    "RTI(S4)"
   ]
  },
  {
   "cell_type": "code",
   "execution_count": 71,
   "id": "a332fbe1-b97d-4891-8f4a-a8e0121e44dd",
   "metadata": {},
   "outputs": [
    {
     "name": "stdout",
     "output_type": "stream",
     "text": [
      "1664\n"
     ]
    }
   ],
   "source": [
    "RTI(\"MDCLXIV\")"
   ]
  },
  {
   "cell_type": "code",
   "execution_count": null,
   "id": "d4d4f4f7-436f-4abb-a46c-11ee13224cee",
   "metadata": {},
   "outputs": [],
   "source": []
  }
 ],
 "metadata": {
  "kernelspec": {
   "display_name": "JavaScript",
   "language": "javascript",
   "name": "jslab"
  },
  "language_info": {
   "file_extension": ".js",
   "mimetype": "text/javascript",
   "name": "javascript",
   "version": ""
  }
 },
 "nbformat": 4,
 "nbformat_minor": 5
}
