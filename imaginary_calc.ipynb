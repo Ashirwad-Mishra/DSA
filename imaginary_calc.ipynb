{
 "cells": [
  {
   "cell_type": "code",
   "execution_count": 7,
   "id": "61c55ce7",
   "metadata": {},
   "outputs": [],
   "source": [
    "import math"
   ]
  },
  {
   "cell_type": "code",
   "execution_count": 50,
   "id": "e43617a8",
   "metadata": {},
   "outputs": [],
   "source": [
    "class real:\n",
    "    def __init__(self, value):\n",
    "        if isinstance(value, real):\n",
    "            self.value = value.value\n",
    "        else:\n",
    "            self.value = float(value)\n",
    "\n",
    "    def __add__(self, other):\n",
    "        return real(self.value + float(other))\n",
    "\n",
    "    def __sub__(self, other):\n",
    "        return real(self.value - float(other))\n",
    "\n",
    "    def __mul__(self, other):\n",
    "        return real(self.value * float(other))\n",
    "\n",
    "    def __truediv__(self, other):\n",
    "        return real(self.value / float(other))\n",
    "\n",
    "    def __pow__(self, other):\n",
    "        return real(self.value ** float(other))\n",
    "\n",
    "    def __neg__(self):\n",
    "        return real(-self.value)\n",
    "\n",
    "    def __float__(self):\n",
    "        return self.value\n",
    "\n",
    "    def __eq__(self, other):\n",
    "        return self.value == float(other)\n",
    "\n",
    "    def __repr__(self):\n",
    "        return f\"real({self.value})\"\n",
    "\n",
    "    def __str__(self):\n",
    "        return str(self.value)"
   ]
  },
  {
   "cell_type": "code",
   "execution_count": 51,
   "id": "d9a7c490",
   "metadata": {},
   "outputs": [],
   "source": [
    "num1 = real(10 + 67 / 3 + math.sqrt(3))"
   ]
  },
  {
   "cell_type": "code",
   "execution_count": 52,
   "id": "3a041a6f",
   "metadata": {},
   "outputs": [
    {
     "name": "stdout",
     "output_type": "stream",
     "text": [
      "34.065384140902204\n"
     ]
    }
   ],
   "source": [
    "print(num1)"
   ]
  },
  {
   "cell_type": "code",
   "execution_count": 28,
   "id": "f7a06274",
   "metadata": {},
   "outputs": [],
   "source": [
    "num2 = real(5*math.pi + 2*math.e - 3) + num1"
   ]
  },
  {
   "cell_type": "code",
   "execution_count": 29,
   "id": "2c85d972",
   "metadata": {},
   "outputs": [
    {
     "name": "stdout",
     "output_type": "stream",
     "text": [
      "real(52.20991106576926)\n"
     ]
    }
   ],
   "source": [
    "print(num2)"
   ]
  },
  {
   "cell_type": "code",
   "execution_count": 30,
   "id": "dc61d5ac",
   "metadata": {},
   "outputs": [],
   "source": [
    "num2 -= num1"
   ]
  },
  {
   "cell_type": "code",
   "execution_count": 31,
   "id": "de37b3e6",
   "metadata": {},
   "outputs": [
    {
     "name": "stdout",
     "output_type": "stream",
     "text": [
      "real(18.14452692486706)\n"
     ]
    }
   ],
   "source": [
    "print(num2)"
   ]
  },
  {
   "cell_type": "code",
   "execution_count": 32,
   "id": "5f9e471d",
   "metadata": {},
   "outputs": [
    {
     "name": "stdout",
     "output_type": "stream",
     "text": [
      "real(618.1002797505394)\n"
     ]
    }
   ],
   "source": [
    "print(num1 * num2)"
   ]
  },
  {
   "cell_type": "code",
   "execution_count": 33,
   "id": "0e8078b8",
   "metadata": {},
   "outputs": [
    {
     "name": "stdout",
     "output_type": "stream",
     "text": [
      "real(6.354768873932069e+27)\n"
     ]
    }
   ],
   "source": [
    "print(num1 ** num2)  # This will raise an error since ** is not defined for the real class"
   ]
  },
  {
   "cell_type": "code",
   "execution_count": 35,
   "id": "911db5f9",
   "metadata": {},
   "outputs": [
    {
     "name": "stdout",
     "output_type": "stream",
     "text": [
      "real(146.89879639821362)\n"
     ]
    }
   ],
   "source": [
    "print(num1 ** real(math.sqrt(2)))  # This will also raise an error since ** is not defined for the real class"
   ]
  },
  {
   "cell_type": "code",
   "execution_count": 36,
   "id": "0d59def2",
   "metadata": {},
   "outputs": [],
   "source": [
    "# The code above defines a class `real` to handle real numbers and performs some arithmetic operations.\n",
    "# It creates two instances of `real`, performs addition and subtraction, and prints the results."
   ]
  },
  {
   "cell_type": "code",
   "execution_count": 127,
   "id": "45d5a37f",
   "metadata": {},
   "outputs": [],
   "source": [
    "class Complex:\n",
    "    def __init__(self, real_part, imag_part):\n",
    "        self.real = real(real_part)\n",
    "        self.imag = real(imag_part)\n",
    "\n",
    "    def __add__(self, other):\n",
    "        if isinstance(other, Complex):\n",
    "            return Complex(self.real + other.real, self.imag + other.imag)\n",
    "        elif isinstance(other, real):\n",
    "            return Complex(self.real + other, self.imag)\n",
    "        elif isinstance(other, (int, float)):\n",
    "            return Complex(self.real + other, self.imag)\n",
    "        else:\n",
    "            raise TypeError(f\"Unsupported operand type(s) for +: 'Complex' and '{type(other).__name__}'\")\n",
    "    def __sub__(self, other):\n",
    "        if isinstance(other, Complex):\n",
    "            return Complex(self.real - other.real, self.imag - other.imag)\n",
    "        return Complex(self.real - other, self.imag)\n",
    "\n",
    "    def __mul__(self, other):\n",
    "        if isinstance(other, Complex):\n",
    "            return Complex(self.real * other.real - self.imag * other.imag,\n",
    "                       self.real * other.imag + self.imag * other.real)\n",
    "        elif isinstance(other, (int, float, real)):\n",
    "            return Complex(self.real * other, self.imag * other)\n",
    "        else:\n",
    "            return NotImplemented\n",
    "\n",
    "    def __truediv__(self, other):\n",
    "        if isinstance(other, Complex):\n",
    "            denom = other.real.value ** 2 + other.imag.value ** 2\n",
    "            if denom == 0:\n",
    "                raise ZeroDivisionError(\"Division by zero in complex division.\")\n",
    "            return Complex((self.real * other.real + self.imag * other.imag) / denom,\n",
    "                           (self.imag * other.real - self.real * other.imag) / denom)\n",
    "        return Complex(self.real / other, self.imag / other)\n",
    "\n",
    "    def __pow__(self, exponent):\n",
    "    # Accept real numbers, wrap into Complex\n",
    "        if isinstance(exponent, (int, float, real)):\n",
    "            exponent = Complex(exponent, 0)\n",
    "\n",
    "        if not isinstance(exponent, Complex):\n",
    "            raise TypeError(\"Exponent must be int, float, real, or Complex\")\n",
    "\n",
    "        # Handle 0^anything safely\n",
    "        if self.real.value == 0 and self.imag.value == 0:\n",
    "            return Complex(0, 0)\n",
    "\n",
    "        # Convert self to polar form\n",
    "        r = abs(self)                            # magnitude\n",
    "        theta = self.phase()                     # angle\n",
    "\n",
    "        # exponent = a + bi\n",
    "        a = exponent.real.value\n",
    "        b = exponent.imag.value\n",
    "\n",
    "        # Using: z^w = e^{w * ln(z)} = r^a * e^{-bθ} * [cos(aθ + b ln r) + i sin(aθ + b ln r)]\n",
    "        log_r = math.log(r)\n",
    "        new_mag = r ** a * math.exp(-b * theta)\n",
    "        new_angle = a * theta + b * log_r\n",
    "\n",
    "        return Complex(new_mag * math.cos(new_angle),\n",
    "                   new_mag * math.sin(new_angle))\n",
    "\n",
    "    def __neg__(self):\n",
    "        return Complex(-self.real, -self.imag)\n",
    "\n",
    "    def __abs__(self):\n",
    "        return math.hypot(self.real.value, self.imag.value)\n",
    "\n",
    "    def conjugate(self):\n",
    "        return Complex(self.real, -self.imag)\n",
    "\n",
    "    def phase(self):\n",
    "        return math.atan2(self.imag.value, self.real.value)\n",
    "\n",
    "    def polar(self):\n",
    "        return (abs(self), self.phase())\n",
    "\n",
    "    def __eq__(self, other):\n",
    "        return self.real == other.real and self.imag == other.imag\n",
    "\n",
    "    def __ne__(self, other):\n",
    "        return not self.__eq__(other)\n",
    "\n",
    "    def __lt__(self, other):\n",
    "        return abs(self) < abs(other)\n",
    "\n",
    "    def __le__(self, other):\n",
    "        return abs(self) <= abs(other)\n",
    "\n",
    "    def __gt__(self, other):\n",
    "        return abs(self) > abs(other)\n",
    "\n",
    "    def __ge__(self, other):\n",
    "        return abs(self) >= abs(other)\n",
    "\n",
    "    def __bool__(self):\n",
    "        return bool(self.real.value or self.imag.value)\n",
    "\n",
    "    def __hash__(self):\n",
    "        return hash((self.real.value, self.imag.value))\n",
    "\n",
    "    def __str__(self):\n",
    "        r, i = self.real.value, self.imag.value\n",
    "        sign = '+' if i >= 0 else '-'\n",
    "        return f\"{r} {sign} {abs(i)}i\"\n",
    "\n",
    "    def __repr__(self):\n",
    "        return self.__str__()\n",
    "    def __rmul__(self, other):\n",
    "        return self.__mul__(other)\n",
    "    def __radd__(self, other):\n",
    "        return self + other\n",
    "\n",
    "    def __rsub__(self, other):\n",
    "        return -self + other\n",
    "\n",
    "    def __rtruediv__(self, other):\n",
    "        return Complex(other, 0) / self\n",
    "\n"
   ]
  },
  {
   "cell_type": "code",
   "execution_count": 128,
   "id": "b7bf5191",
   "metadata": {},
   "outputs": [],
   "source": [
    "c1 = Complex(1, 2)\n",
    "c2 = Complex(3, 4)"
   ]
  },
  {
   "cell_type": "code",
   "execution_count": 129,
   "id": "ef3f9dd5",
   "metadata": {},
   "outputs": [
    {
     "name": "stdout",
     "output_type": "stream",
     "text": [
      "4.0 + 6.0i\n",
      "4.0 + 6.0i\n"
     ]
    }
   ],
   "source": [
    "c1 = Complex(3, 4)\n",
    "c2 = Complex(1, 2)\n",
    "print(c1 + c2)          # → Complex(real(4.0), real(6.0))\n",
    "print(str(c1 + c2))     # → 4.0 + 6.0i\n"
   ]
  },
  {
   "cell_type": "code",
   "execution_count": 130,
   "id": "0be39748",
   "metadata": {},
   "outputs": [],
   "source": [
    "c3 = Complex(2*math.pi, 67/3 + math.sqrt(3))"
   ]
  },
  {
   "cell_type": "code",
   "execution_count": 131,
   "id": "07ab40aa",
   "metadata": {},
   "outputs": [],
   "source": [
    "c4 = Complex(4*1/math.pow(2 , 1/5) , 7 )"
   ]
  },
  {
   "cell_type": "code",
   "execution_count": 132,
   "id": "b42b5659",
   "metadata": {},
   "outputs": [
    {
     "name": "stdout",
     "output_type": "stream",
     "text": [
      "9.765387560364083 + 31.06538414090221i\n"
     ]
    }
   ],
   "source": [
    "print(c3 + c4)"
   ]
  },
  {
   "cell_type": "code",
   "execution_count": 133,
   "id": "3d9ebf7c",
   "metadata": {},
   "outputs": [
    {
     "name": "stdout",
     "output_type": "stream",
     "text": [
      "2.8009830539950897 + 17.06538414090221i\n",
      "-146.578366952479 + 127.78283202945724i\n",
      "3.1138606137807736 + 0.6514153054614691i\n",
      "-2.648812263691121 + 6.76476769299523i\n",
      "False\n"
     ]
    }
   ],
   "source": [
    "print(c3 - c4)\n",
    "print(c3 * c4)\n",
    "print(c3 / c4)\n",
    "print(c3 ** c4)  # This will raise an error since ** is not defined for the Complex class\n",
    "print(c3 == c4)"
   ]
  },
  {
   "cell_type": "code",
   "execution_count": 134,
   "id": "950c302b",
   "metadata": {},
   "outputs": [],
   "source": [
    "polar_c3 = c3.polar()\n",
    "polar_c4 = c4.polar()\n"
   ]
  },
  {
   "cell_type": "code",
   "execution_count": 135,
   "id": "49fd8c92",
   "metadata": {},
   "outputs": [
    {
     "name": "stdout",
     "output_type": "stream",
     "text": [
      "(24.872095437528884, 1.3154093410876935)\n"
     ]
    }
   ],
   "source": [
    "print(polar_c3)"
   ]
  },
  {
   "cell_type": "code",
   "execution_count": 136,
   "id": "bd252132",
   "metadata": {},
   "outputs": [
    {
     "name": "stdout",
     "output_type": "stream",
     "text": [
      "(7.818294733001768, 1.1091848139292468)\n"
     ]
    }
   ],
   "source": [
    "print(polar_c4)"
   ]
  },
  {
   "cell_type": "code",
   "execution_count": 137,
   "id": "98f6eef7",
   "metadata": {},
   "outputs": [
    {
     "name": "stdout",
     "output_type": "stream",
     "text": [
      "6.283185307179586 - 24.06538414090221i\n"
     ]
    }
   ],
   "source": [
    "print(c3.conjugate())"
   ]
  },
  {
   "cell_type": "code",
   "execution_count": 138,
   "id": "dc7bd27d",
   "metadata": {},
   "outputs": [],
   "source": [
    "i = Complex(0, 1)  # Define the imaginary unit i\n",
    "c5 = Complex(math.e , 0) ** (i * math.pi / 2) "
   ]
  },
  {
   "cell_type": "code",
   "execution_count": 139,
   "id": "7ed4f438",
   "metadata": {},
   "outputs": [
    {
     "name": "stdout",
     "output_type": "stream",
     "text": [
      "6.123233995736766e-17 + 1.0i\n"
     ]
    }
   ],
   "source": [
    "print(c5)"
   ]
  },
  {
   "cell_type": "code",
   "execution_count": 140,
   "id": "37fc013b",
   "metadata": {},
   "outputs": [
    {
     "name": "stdout",
     "output_type": "stream",
     "text": [
      "1.0 + 1.0i\n"
     ]
    }
   ],
   "source": [
    "print(c5 + Complex(1, 0)) "
   ]
  },
  {
   "cell_type": "code",
   "execution_count": 124,
   "id": "a5c28fb1",
   "metadata": {},
   "outputs": [
    {
     "name": "stdout",
     "output_type": "stream",
     "text": [
      "(0.0, 0.0)\n"
     ]
    }
   ],
   "source": [
    "print(Complex(0, 0).polar()) "
   ]
  },
  {
   "cell_type": "markdown",
   "id": "a82552d1",
   "metadata": {},
   "source": [
    "#### Full test of Complex class functionality"
   ]
  },
  {
   "cell_type": "code",
   "execution_count": 143,
   "id": "4a046dc9",
   "metadata": {},
   "outputs": [
    {
     "name": "stdout",
     "output_type": "stream",
     "text": [
      "\n",
      "===== BASIC OPERATIONS =====\n",
      "a = 2.0 + 3.0i\n",
      "b = 1.0 - 4.0i\n",
      "a + b = 3.0 - 1.0i\n",
      "a - b = 1.0 + 7.0i\n",
      "a * b = 14.0 - 5.0i\n",
      "a / b = -0.5882352941176471 + 0.6470588235294118i\n",
      "Conjugate of a: 2.0 - 3.0i\n",
      "\n",
      "===== REVERSE OPERATIONS =====\n",
      "5 + a = 7.0 + 3.0i\n",
      "a + 5 = 7.0 + 3.0i\n",
      "3 * a = 6.0 + 9.0i\n",
      "a * 3 = 6.0 + 9.0i\n",
      "10 - a = 8.0 - 3.0i\n",
      "a - 10 = -8.0 + 3.0i\n",
      "10 / a = 1.5384615384615385 - 2.3076923076923075i\n",
      "a / 10 = 0.2 + 0.3i\n",
      "\n",
      "===== EXPONENTIATION =====\n",
      "a ** 2 = -4.999999999999999 + 11.999999999999998i\n",
      "a ** 0.5 = 1.6741492280355401 + 0.895977476129838i\n",
      "e^(i * π) = -1.0 + 1.2246467991473532e-16i\n",
      "e^(i * π/2) = 6.123233995736766e-17 + 1.0i\n",
      "\n",
      "===== MAGNITUDE, PHASE & POLAR =====\n",
      "|a| = 3.605551275463989\n",
      "Phase of a = 0.982793723247329\n",
      "Polar of a = (3.605551275463989, 0.982793723247329)\n",
      "\n",
      "===== COMPARISON =====\n",
      "x == y: False\n",
      "x != y: True\n",
      "x < y: True\n",
      "x <= y: True\n",
      "x > y: False\n",
      "x >= y: False\n",
      "\n",
      "===== BOOL AND HASH =====\n",
      "bool(Complex(0, 0)): False\n",
      "bool(Complex(1, 0)): True\n",
      "hash(Complex(1, 2)): -3550055125485641917\n",
      "\n",
      "===== STR & REPR =====\n",
      "str(a): 2.0 + 3.0i\n",
      "repr(a): 2.0 + 3.0i\n",
      "\n",
      "===== TYPE SAFETY =====\n",
      "Caught expected error: Unsupported operand type(s) for +: 'Complex' and 'str'\n",
      "Complex(0, 0) ** Complex(0, 0): 0.0 + 0.0i\n"
     ]
    }
   ],
   "source": [
    "print(\"\\n===== BASIC OPERATIONS =====\")\n",
    "a = Complex(2, 3)\n",
    "b = Complex(1, -4)\n",
    "print(f\"a = {a}\")  # 2 + 3i\n",
    "print(f\"b = {b}\")  # 1 - 4i\n",
    "print(\"a + b =\", a + b)       # 3 - 1i\n",
    "print(\"a - b =\", a - b)       # 1 + 7i\n",
    "print(\"a * b =\", a * b)       # 14 - 5i\n",
    "print(\"a / b =\", a / b)       # proper division\n",
    "print(\"Conjugate of a:\", a.conjugate())  # 2 - 3i\n",
    "\n",
    "print(\"\\n===== REVERSE OPERATIONS =====\")\n",
    "print(\"5 + a =\", 5 + a)       # 7 + 3i\n",
    "print(\"a + 5 =\", a + 5)       # 7 + 3i\n",
    "print(\"3 * a =\", 3 * a)       # 6 + 9i\n",
    "print(\"a * 3 =\", a * 3)       # 6 + 9i\n",
    "print(\"10 - a =\", 10 - a)     # 8 - 3i\n",
    "print(\"a - 10 =\", a - 10)     # -8 + 3i\n",
    "print(\"10 / a =\", 10 / a)     # ~1.3846 - 2.0769i\n",
    "print(\"a / 10 =\", a / 10)     # 0.2 + 0.3i\n",
    "\n",
    "print(\"\\n===== EXPONENTIATION =====\")\n",
    "print(\"a ** 2 =\", a ** 2)     # Square of a\n",
    "print(\"a ** 0.5 =\", a ** 0.5) # Square root of a\n",
    "print(\"e^(i * π) =\", Complex(math.e, 0) ** (Complex(0, 1) * math.pi))  # Should be -1 + 0i\n",
    "print(\"e^(i * π/2) =\", Complex(math.e, 0) ** (Complex(0, 1) * math.pi / 2))  # ~0 + 1i\n",
    "\n",
    "print(\"\\n===== MAGNITUDE, PHASE & POLAR =====\")\n",
    "print(\"|a| =\", abs(a))              # sqrt(13)\n",
    "print(\"Phase of a =\", a.phase())   # atan2(3,2)\n",
    "print(\"Polar of a =\", a.polar())  # (|a|, phase)\n",
    "\n",
    "print(\"\\n===== COMPARISON =====\")\n",
    "x = Complex(1, 1)\n",
    "y = Complex(2, 2)\n",
    "print(\"x == y:\", x == y)           # False\n",
    "print(\"x != y:\", x != y)           # True\n",
    "print(\"x < y:\", x < y)             # True\n",
    "print(\"x <= y:\", x <= y)           # True\n",
    "print(\"x > y:\", x > y)             # False\n",
    "print(\"x >= y:\", x >= y)           # False\n",
    "\n",
    "print(\"\\n===== BOOL AND HASH =====\")\n",
    "print(\"bool(Complex(0, 0)):\", bool(Complex(0, 0)))   # False\n",
    "print(\"bool(Complex(1, 0)):\", bool(Complex(1, 0)))   # True\n",
    "print(\"hash(Complex(1, 2)):\", hash(Complex(1, 2)))   # should work\n",
    "\n",
    "print(\"\\n===== STR & REPR =====\")\n",
    "print(\"str(a):\", str(a))\n",
    "print(\"repr(a):\", repr(a))\n",
    "\n",
    "print(\"\\n===== TYPE SAFETY =====\")\n",
    "try:\n",
    "    print(\"a + 'hello' =\", a + 'hello')  # should raise TypeError\n",
    "except TypeError as e:\n",
    "    print(\"Caught expected error:\", e)\n",
    "\n",
    "try:\n",
    "    print(\"Complex(0, 0) ** Complex(0, 0):\", Complex(0, 0) ** Complex(0, 0))  # 0 ** 0\n",
    "except ValueError as e:\n",
    "    print(\"Caught expected error:\", e)\n"
   ]
  },
  {
   "cell_type": "code",
   "execution_count": 144,
   "id": "0661176a",
   "metadata": {},
   "outputs": [
    {
     "name": "stdout",
     "output_type": "stream",
     "text": [
      "5.0\n"
     ]
    }
   ],
   "source": [
    "print(abs(Complex(3, 4)))  # Should print the magnitude of the complex number\n"
   ]
  },
  {
   "cell_type": "code",
   "execution_count": null,
   "id": "47f8a504",
   "metadata": {},
   "outputs": [],
   "source": []
  }
 ],
 "metadata": {
  "kernelspec": {
   "display_name": "base",
   "language": "python",
   "name": "python3"
  },
  "language_info": {
   "codemirror_mode": {
    "name": "ipython",
    "version": 3
   },
   "file_extension": ".py",
   "mimetype": "text/x-python",
   "name": "python",
   "nbconvert_exporter": "python",
   "pygments_lexer": "ipython3",
   "version": "3.12.4"
  }
 },
 "nbformat": 4,
 "nbformat_minor": 5
}
