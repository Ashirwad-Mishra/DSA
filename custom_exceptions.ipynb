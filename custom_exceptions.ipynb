{
 "cells": [
  {
   "cell_type": "code",
   "execution_count": 1,
   "id": "3d9daf24",
   "metadata": {},
   "outputs": [],
   "source": [
    "class error(Exception):\n",
    "    \"\"\"Base class for all exceptions raised by this module.\"\"\"\n",
    "    pass"
   ]
  },
  {
   "cell_type": "code",
   "execution_count": null,
   "id": "b6fce2b6",
   "metadata": {},
   "outputs": [],
   "source": [
    "class DOBError(error):\n",
    "    \"\"\"Raised when a date of birth is invalid.\"\"\"\n",
    "    def __init__(self,  message=\"You have not reached the minimum age required to use this service.\"):\n",
    "        super().__init__(message)"
   ]
  },
  {
   "cell_type": "code",
   "execution_count": null,
   "id": "83cc9831",
   "metadata": {},
   "outputs": [],
   "source": []
  },
  {
   "cell_type": "code",
   "execution_count": 7,
   "id": "470d61f6",
   "metadata": {},
   "outputs": [],
   "source": [
    "class DOBError(Exception):\n",
    "    \"\"\"Raised when a date of birth is invalid.\"\"\"\n",
    "    def __init__(self, message=\"You have not reached the minimum age required to use this service.\"):\n",
    "        super().__init__(message)\n",
    "\n",
    "class Voter:\n",
    "    \"\"\"A class representing a voter with a minimum age requirement.\"\"\"\n",
    "    def __init__(self, age: int = 0, name: str = \"\"):\n",
    "        self.name = name\n",
    "        try:\n",
    "            if age < 18:\n",
    "                raise DOBError()\n",
    "        except DOBError as e:\n",
    "            print(e)  \n",
    "            return \n",
    "        \n",
    "        self.age = age  # Set the age if valid\n",
    "\n",
    "    def __str__(self):\n",
    "        return f\"Voter(name={self.name}, age={self.age})\"\n"
   ]
  },
  {
   "cell_type": "code",
   "execution_count": 8,
   "id": "72a6255b",
   "metadata": {},
   "outputs": [
    {
     "ename": "DOBError",
     "evalue": "You have not reached the minimum age required to use this service.",
     "output_type": "error",
     "traceback": [
      "\u001b[1;31m---------------------------------------------------------------------------\u001b[0m",
      "\u001b[1;31mDOBError\u001b[0m                                  Traceback (most recent call last)",
      "Cell \u001b[1;32mIn[8], line 1\u001b[0m\n\u001b[1;32m----> 1\u001b[0m v1 \u001b[38;5;241m=\u001b[39m \u001b[43mvoter\u001b[49m\u001b[43m(\u001b[49m\u001b[38;5;241;43m15\u001b[39;49m\u001b[43m \u001b[49m\u001b[43m,\u001b[49m\u001b[43m \u001b[49m\u001b[38;5;124;43m\"\u001b[39;49m\u001b[38;5;124;43mAlice\u001b[39;49m\u001b[38;5;124;43m\"\u001b[39;49m\u001b[43m)\u001b[49m\n",
      "Cell \u001b[1;32mIn[1], line 6\u001b[0m, in \u001b[0;36mvoter.__init__\u001b[1;34m(self, age, name)\u001b[0m\n\u001b[0;32m      4\u001b[0m \u001b[38;5;28mself\u001b[39m\u001b[38;5;241m.\u001b[39mname \u001b[38;5;241m=\u001b[39m name\n\u001b[0;32m      5\u001b[0m \u001b[38;5;28;01mif\u001b[39;00m age \u001b[38;5;241m<\u001b[39m \u001b[38;5;241m18\u001b[39m:\n\u001b[1;32m----> 6\u001b[0m     \u001b[38;5;28;01mraise\u001b[39;00m DOBError()\n\u001b[0;32m      7\u001b[0m \u001b[38;5;28mself\u001b[39m\u001b[38;5;241m.\u001b[39mage \u001b[38;5;241m=\u001b[39m age\n",
      "\u001b[1;31mDOBError\u001b[0m: You have not reached the minimum age required to use this service."
     ]
    }
   ],
   "source": [
    "v1 = voter(15 , \"Alice\")"
   ]
  },
  {
   "cell_type": "code",
   "execution_count": 3,
   "id": "fc5ac0ff",
   "metadata": {},
   "outputs": [],
   "source": [
    "v2 = voter(20, \"Bob\")"
   ]
  },
  {
   "cell_type": "code",
   "execution_count": 6,
   "id": "34ba7f39",
   "metadata": {},
   "outputs": [
    {
     "name": "stdout",
     "output_type": "stream",
     "text": [
      "<bound method voter.__str__ of <__main__.voter object at 0x000001B9D8DF8710>>\n"
     ]
    }
   ],
   "source": [
    "print(v2.__str__)"
   ]
  },
  {
   "cell_type": "code",
   "execution_count": null,
   "id": "09763bfa",
   "metadata": {},
   "outputs": [],
   "source": []
  }
 ],
 "metadata": {
  "kernelspec": {
   "display_name": "base",
   "language": "python",
   "name": "python3"
  },
  "language_info": {
   "codemirror_mode": {
    "name": "ipython",
    "version": 3
   },
   "file_extension": ".py",
   "mimetype": "text/x-python",
   "name": "python",
   "nbconvert_exporter": "python",
   "pygments_lexer": "ipython3",
   "version": "3.12.4"
  }
 },
 "nbformat": 4,
 "nbformat_minor": 5
}
